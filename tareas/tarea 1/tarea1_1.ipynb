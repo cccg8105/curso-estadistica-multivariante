{
  "nbformat": 4,
  "nbformat_minor": 0,
  "metadata": {
    "colab": {
      "name": "tarea1.1.ipynb",
      "provenance": [],
      "collapsed_sections": [],
      "authorship_tag": "ABX9TyP2ti18M6a3OVPfBPbZQ8jp",
      "include_colab_link": true
    },
    "kernelspec": {
      "name": "python3",
      "display_name": "Python 3"
    }
  },
  "cells": [
    {
      "cell_type": "markdown",
      "metadata": {
        "id": "view-in-github",
        "colab_type": "text"
      },
      "source": [
        "<a href=\"https://colab.research.google.com/github/cccg8105/curso-estadistica-multivariante/blob/master/tareas/tarea%201/tarea1_1.ipynb\" target=\"_parent\"><img src=\"https://colab.research.google.com/assets/colab-badge.svg\" alt=\"Open In Colab\"/></a>"
      ]
    },
    {
      "cell_type": "markdown",
      "metadata": {
        "id": "1UcHtemJt2Dj",
        "colab_type": "text"
      },
      "source": [
        "# Tarea 1 del **curso**"
      ]
    },
    {
      "cell_type": "code",
      "metadata": {
        "id": "CLFaNWsLtvrP",
        "colab_type": "code",
        "colab": {}
      },
      "source": [
        "import numpy as np \n",
        "import scipy as sc\n",
        "import pandas as pd \n",
        "import seaborn as sns\n",
        "import matplotlib.pyplot as plt"
      ],
      "execution_count": 20,
      "outputs": []
    },
    {
      "cell_type": "markdown",
      "metadata": {
        "id": "lgB3U8e95B1Z",
        "colab_type": "text"
      },
      "source": [
        "Importando archivo de datos"
      ]
    },
    {
      "cell_type": "code",
      "metadata": {
        "id": "cbYQvcon5GdM",
        "colab_type": "code",
        "colab": {}
      },
      "source": [
        "data=pd.read_csv('https://raw.githubusercontent.com/cccg8105/curso-estadistica-multivariante/master/tareas/tarea%201/companies79.csv', index_col=0)\n"
      ],
      "execution_count": 14,
      "outputs": []
    },
    {
      "cell_type": "markdown",
      "metadata": {
        "id": "mFii8Jpz5gfs",
        "colab_type": "text"
      },
      "source": [
        "Información del archivo"
      ]
    },
    {
      "cell_type": "code",
      "metadata": {
        "id": "KkhOjvWk5jl1",
        "colab_type": "code",
        "colab": {
          "base_uri": "https://localhost:8080/",
          "height": 272
        },
        "outputId": "b69effa0-7c55-49a6-c3ef-c121c9f28de4"
      },
      "source": [
        "data.info()"
      ],
      "execution_count": 15,
      "outputs": [
        {
          "output_type": "stream",
          "text": [
            "<class 'pandas.core.frame.DataFrame'>\n",
            "Int64Index: 79 entries, 1 to 79\n",
            "Data columns (total 8 columns):\n",
            " #   Column  Non-Null Count  Dtype  \n",
            "---  ------  --------------  -----  \n",
            " 0   V1      79 non-null     object \n",
            " 1   V2      79 non-null     int64  \n",
            " 2   V3      79 non-null     int64  \n",
            " 3   V4      79 non-null     int64  \n",
            " 4   V5      79 non-null     float64\n",
            " 5   V6      79 non-null     float64\n",
            " 6   V7      79 non-null     float64\n",
            " 7   V8      79 non-null     object \n",
            "dtypes: float64(3), int64(3), object(2)\n",
            "memory usage: 5.6+ KB\n"
          ],
          "name": "stdout"
        }
      ]
    },
    {
      "cell_type": "code",
      "metadata": {
        "id": "uy10MqmB5sAO",
        "colab_type": "code",
        "colab": {
          "base_uri": "https://localhost:8080/",
          "height": 153
        },
        "outputId": "9d1efdd3-96c1-4ae1-861d-a78f86e5ab68"
      },
      "source": [
        "print(data.head())"
      ],
      "execution_count": 16,
      "outputs": [
        {
          "output_type": "stream",
          "text": [
            "                             V1     V2    V3  ...      V6    V7             V8\n",
            "1                  BellAtlantic  19788  9084  ...  2576.8  79.4  Communication\n",
            "2            ContinentalTelecom   5074  2557  ...   578.3  21.9  Communication\n",
            "3         AmericanElectricPower  13621  4848  ...   898.9  23.4         Energy\n",
            "4              BrooklynUnionGas   1117  1038  ...    91.7   3.8         Energy\n",
            "5  CentralIllinoisPublicService   1633   701  ...   135.9   2.8         Energy\n",
            "\n",
            "[5 rows x 8 columns]\n"
          ],
          "name": "stdout"
        }
      ]
    },
    {
      "cell_type": "markdown",
      "metadata": {
        "id": "kC0B3v9Z6RQk",
        "colab_type": "text"
      },
      "source": [
        "Se crea nueva variable sin las columnas V1 y V8"
      ]
    },
    {
      "cell_type": "code",
      "metadata": {
        "id": "nUwQKlN86ZFT",
        "colab_type": "code",
        "colab": {
          "base_uri": "https://localhost:8080/",
          "height": 119
        },
        "outputId": "426d96f6-32f6-46ef-b2c2-dca877f4fa3f"
      },
      "source": [
        "Xf=data.drop(\"V1\", axis=1)\n",
        "Xf=Xf.drop(\"V8\", axis=1)\n",
        "print(Xf.head())"
      ],
      "execution_count": 17,
      "outputs": [
        {
          "output_type": "stream",
          "text": [
            "      V2    V3     V4      V5      V6    V7\n",
            "1  19788  9084  10636  1092.9  2576.8  79.4\n",
            "2   5074  2557   1892   239.9   578.3  21.9\n",
            "3  13621  4848   4572   485.0   898.9  23.4\n",
            "4   1117  1038    478    59.7    91.7   3.8\n",
            "5   1633   701    679    74.3   135.9   2.8\n"
          ],
          "name": "stdout"
        }
      ]
    },
    {
      "cell_type": "markdown",
      "metadata": {
        "id": "AFISK-TA7JcR",
        "colab_type": "text"
      },
      "source": [
        "Boxplot de todas las variables"
      ]
    },
    {
      "cell_type": "code",
      "metadata": {
        "id": "db2n4qUO7OqE",
        "colab_type": "code",
        "colab": {
          "base_uri": "https://localhost:8080/",
          "height": 377
        },
        "outputId": "e4c97d6e-77d3-4816-c2b1-2dca14f5693d"
      },
      "source": [
        "Xf.boxplot(figsize=(12, 6))\n",
        "plt.show()"
      ],
      "execution_count": 21,
      "outputs": [
        {
          "output_type": "display_data",
          "data": {
            "image/png": "[encoded data removed]",
            "text/plain": [
              "<Figure size 864x432 with 1 Axes>"
            ]
          },
          "metadata": {
            "tags": [],
            "needs_background": "light"
          }
        }
      ]
    },
    {
      "cell_type": "markdown",
      "metadata": {
        "id": "X3e5M-QrCKNK",
        "colab_type": "text"
      },
      "source": [
        "Variables por sector"
      ]
    },
    {
      "cell_type": "code",
      "metadata": {
        "id": "5Ipozz1QCNw8",
        "colab_type": "code",
        "colab": {
          "base_uri": "https://localhost:8080/",
          "height": 420
        },
        "outputId": "66952954-0454-48d0-c7a1-45d30f9e4ea5"
      },
      "source": [
        "data2=data.drop(\"V1\", axis=1)\n",
        "data2.boxplot(by=\"V8\",figsize=(12, 6))\n",
        "plt.show()"
      ],
      "execution_count": 22,
      "outputs": [
        {
          "output_type": "display_data",
          "data": {
            "image/png": "[encoded data removed]",
            "text/plain": [
              "<Figure size 864x432 with 6 Axes>"
            ]
          },
          "metadata": {
            "tags": [],
            "needs_background": "light"
          }
        }
      ]
    }
  ]
}